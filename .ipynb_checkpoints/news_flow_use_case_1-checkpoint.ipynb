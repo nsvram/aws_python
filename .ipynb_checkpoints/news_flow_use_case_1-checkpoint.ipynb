{
 "cells": [
  {
   "cell_type": "code",
   "execution_count": 85,
   "metadata": {},
   "outputs": [],
   "source": [
    "import boto3\n",
    "import psycopg2\n",
    "import datetime\n",
    "import warnings\n",
    "import util\n",
    "import configparser\n",
    "import jaydebeapi\n",
    "from airflow import DAG\n",
    "from airflow.operators.bash_operator import BashOperator\n",
    "from airflow.operators.python_operator import PythonOperator\n",
    "warnings.filterwarnings(\"ignore\")"
   ]
  },
  {
   "cell_type": "code",
   "execution_count": 86,
   "metadata": {},
   "outputs": [
    {
     "ename": "NoSectionError",
     "evalue": "No section: 'redshift'",
     "output_type": "error",
     "traceback": [
      "\u001b[0;31m\u001b[0m",
      "\u001b[0;31mKeyError\u001b[0mTraceback (most recent call last)",
      "\u001b[0;32m/opt/conda/lib/python3.6/configparser.py\u001b[0m in \u001b[0;36m_unify_values\u001b[0;34m(self, section, vars)\u001b[0m\n\u001b[1;32m   1137\u001b[0m         \u001b[0;32mtry\u001b[0m\u001b[0;34m:\u001b[0m\u001b[0;34m\u001b[0m\u001b[0m\n\u001b[0;32m-> 1138\u001b[0;31m             \u001b[0msectiondict\u001b[0m \u001b[0;34m=\u001b[0m \u001b[0mself\u001b[0m\u001b[0;34m.\u001b[0m\u001b[0m_sections\u001b[0m\u001b[0;34m[\u001b[0m\u001b[0msection\u001b[0m\u001b[0;34m]\u001b[0m\u001b[0;34m\u001b[0m\u001b[0m\n\u001b[0m\u001b[1;32m   1139\u001b[0m         \u001b[0;32mexcept\u001b[0m \u001b[0mKeyError\u001b[0m\u001b[0;34m:\u001b[0m\u001b[0;34m\u001b[0m\u001b[0m\n",
      "\u001b[0;31mKeyError\u001b[0m: 'redshift'",
      "\nDuring handling of the above exception, another exception occurred:\n",
      "\u001b[0;31mNoSectionError\u001b[0mTraceback (most recent call last)",
      "\u001b[0;32m<ipython-input-86-e4294b9a5682>\u001b[0m in \u001b[0;36m<module>\u001b[0;34m()\u001b[0m\n\u001b[1;32m      1\u001b[0m \u001b[0mconfig\u001b[0m \u001b[0;34m=\u001b[0m \u001b[0mconfigparser\u001b[0m\u001b[0;34m.\u001b[0m\u001b[0mConfigParser\u001b[0m\u001b[0;34m(\u001b[0m\u001b[0;34m)\u001b[0m\u001b[0;34m\u001b[0m\u001b[0m\n\u001b[1;32m      2\u001b[0m \u001b[0mconfig\u001b[0m\u001b[0;34m.\u001b[0m\u001b[0mread\u001b[0m\u001b[0;34m(\u001b[0m\u001b[0;34m\"/Users/sampathkumarv/news/venkat/airflow/workspace/airflow_home/conf/config.ini\"\u001b[0m\u001b[0;34m)\u001b[0m\u001b[0;34m\u001b[0m\u001b[0m\n\u001b[0;32m----> 3\u001b[0;31m \u001b[0mDATABASE\u001b[0m     \u001b[0;34m=\u001b[0m \u001b[0mconfig\u001b[0m\u001b[0;34m.\u001b[0m\u001b[0mget\u001b[0m\u001b[0;34m(\u001b[0m\u001b[0;34m\"redshift\"\u001b[0m\u001b[0;34m,\u001b[0m\u001b[0;34m\"DATABASE\"\u001b[0m\u001b[0;34m)\u001b[0m\u001b[0;34m\u001b[0m\u001b[0m\n\u001b[0m\u001b[1;32m      4\u001b[0m \u001b[0mHOST\u001b[0m         \u001b[0;34m=\u001b[0m \u001b[0mconfig\u001b[0m\u001b[0;34m.\u001b[0m\u001b[0mget\u001b[0m\u001b[0;34m(\u001b[0m\u001b[0;34m\"redshift\"\u001b[0m\u001b[0;34m,\u001b[0m\u001b[0;34m\"HOST\"\u001b[0m\u001b[0;34m)\u001b[0m\u001b[0;34m\u001b[0m\u001b[0m\n\u001b[1;32m      5\u001b[0m \u001b[0mUSER\u001b[0m         \u001b[0;34m=\u001b[0m \u001b[0mconfig\u001b[0m\u001b[0;34m.\u001b[0m\u001b[0mget\u001b[0m\u001b[0;34m(\u001b[0m\u001b[0;34m\"redshift\"\u001b[0m\u001b[0;34m,\u001b[0m\u001b[0;34m\"USER\"\u001b[0m\u001b[0;34m)\u001b[0m\u001b[0;34m\u001b[0m\u001b[0m\n",
      "\u001b[0;32m/opt/conda/lib/python3.6/configparser.py\u001b[0m in \u001b[0;36mget\u001b[0;34m(self, section, option, raw, vars, fallback)\u001b[0m\n\u001b[1;32m    779\u001b[0m         \"\"\"\n\u001b[1;32m    780\u001b[0m         \u001b[0;32mtry\u001b[0m\u001b[0;34m:\u001b[0m\u001b[0;34m\u001b[0m\u001b[0m\n\u001b[0;32m--> 781\u001b[0;31m             \u001b[0md\u001b[0m \u001b[0;34m=\u001b[0m \u001b[0mself\u001b[0m\u001b[0;34m.\u001b[0m\u001b[0m_unify_values\u001b[0m\u001b[0;34m(\u001b[0m\u001b[0msection\u001b[0m\u001b[0;34m,\u001b[0m \u001b[0mvars\u001b[0m\u001b[0;34m)\u001b[0m\u001b[0;34m\u001b[0m\u001b[0m\n\u001b[0m\u001b[1;32m    782\u001b[0m         \u001b[0;32mexcept\u001b[0m \u001b[0mNoSectionError\u001b[0m\u001b[0;34m:\u001b[0m\u001b[0;34m\u001b[0m\u001b[0m\n\u001b[1;32m    783\u001b[0m             \u001b[0;32mif\u001b[0m \u001b[0mfallback\u001b[0m \u001b[0;32mis\u001b[0m \u001b[0m_UNSET\u001b[0m\u001b[0;34m:\u001b[0m\u001b[0;34m\u001b[0m\u001b[0m\n",
      "\u001b[0;32m/opt/conda/lib/python3.6/configparser.py\u001b[0m in \u001b[0;36m_unify_values\u001b[0;34m(self, section, vars)\u001b[0m\n\u001b[1;32m   1139\u001b[0m         \u001b[0;32mexcept\u001b[0m \u001b[0mKeyError\u001b[0m\u001b[0;34m:\u001b[0m\u001b[0;34m\u001b[0m\u001b[0m\n\u001b[1;32m   1140\u001b[0m             \u001b[0;32mif\u001b[0m \u001b[0msection\u001b[0m \u001b[0;34m!=\u001b[0m \u001b[0mself\u001b[0m\u001b[0;34m.\u001b[0m\u001b[0mdefault_section\u001b[0m\u001b[0;34m:\u001b[0m\u001b[0;34m\u001b[0m\u001b[0m\n\u001b[0;32m-> 1141\u001b[0;31m                 \u001b[0;32mraise\u001b[0m \u001b[0mNoSectionError\u001b[0m\u001b[0;34m(\u001b[0m\u001b[0msection\u001b[0m\u001b[0;34m)\u001b[0m\u001b[0;34m\u001b[0m\u001b[0m\n\u001b[0m\u001b[1;32m   1142\u001b[0m         \u001b[0;31m# Update with the entry specific variables\u001b[0m\u001b[0;34m\u001b[0m\u001b[0;34m\u001b[0m\u001b[0m\n\u001b[1;32m   1143\u001b[0m         \u001b[0mvardict\u001b[0m \u001b[0;34m=\u001b[0m \u001b[0;34m{\u001b[0m\u001b[0;34m}\u001b[0m\u001b[0;34m\u001b[0m\u001b[0m\n",
      "\u001b[0;31mNoSectionError\u001b[0m: No section: 'redshift'"
     ]
    }
   ],
   "source": [
    "config = configparser.ConfigParser()\n",
    "config.read(\"/Users/sampathkumarv/news/venkat/airflow/workspace/airflow_home/conf/config.ini\")\n",
    "DATABASE     = config.get(\"redshift\",\"DATABASE\")\n",
    "HOST         = config.get(\"redshift\",\"HOST\")\n",
    "USER         = config.get(\"redshift\",\"USER\")\n",
    "PASSWORD     = config.get(\"redshift\",\"PASSWORD\")\n",
    "PORT         = config.get(\"redshift\",\"PORT\")\n",
    "SCHEMA       = config.get(\"redshift\",\"SCHEMA\")\n",
    "\n",
    "AWS_ACCESS_KEY_ID     = config.get(\"aws_cred\",\"AWS_ACCESS_KEY_ID\")\n",
    "AWS_SECRET_ACCESS_KEY = config.get(\"aws_cred\",\"AWS_SECRET_ACCESS_KEY\")\n",
    "encrypt_key = config.get(\"aws_cred\",\"encrypt-key\")\n",
    "\n",
    "\n",
    "def encrypt_awskey(in_str,key):\n",
    "    cipher = AES.new(key,AES.MODE_ECB)\n",
    "    encoded = base64.b64encode(cipher.encrypt(in_str.ljust(32)))\n",
    "    return encoded.decode(\"utf-8\")\n",
    "\n",
    "def decrypt_awskey(in_str,key):\n",
    "    cipher = AES.new(key,AES.MODE_ECB)\n",
    "    decoded = cipher.decrypt(base64.b64decode(in_str.ljust(32)))\n",
    "    return (decoded.decode(\"utf-8\")).replace(\" \",\"\")\n"
   ]
  },
  {
   "cell_type": "code",
   "execution_count": 69,
   "metadata": {
    "scrolled": true
   },
   "outputs": [],
   "source": [
    "#aws_keys = [lines.split(\"=\")[1] for lines in aws_cred.splitlines() if lines]"
   ]
  },
  {
   "cell_type": "code",
   "execution_count": 84,
   "metadata": {},
   "outputs": [
    {
     "name": "stdout",
     "output_type": "stream",
     "text": [
      "[2018-04-24 04:08:25,707] {connectionpool.py:735} INFO - Starting new HTTPS connection (1): ncgau-uat-shared.s3.ap-southeast-2.amazonaws.com\n"
     ]
    },
    {
     "data": {
      "text/plain": [
       "'ambiata/aka/20171008/'"
      ]
     },
     "execution_count": 84,
     "metadata": {},
     "output_type": "execute_result"
    }
   ],
   "source": [
    "def get_s3_bucket():\n",
    "    s3_client = boto3.client('s3',\n",
    "            aws_access_key_id=AWS_ACCESS_KEY_ID,\n",
    "            aws_secret_access_key=AWS_SECRET_ACCESS_KEY\n",
    "        )\n",
    "    response = s3_client.list_objects_v2(Bucket=\"ncgau-uat-shared\")\n",
    "    return response['Contents'][2]['Key']\n",
    "get_s3_bucket()"
   ]
  },
  {
   "cell_type": "code",
   "execution_count": 72,
   "metadata": {},
   "outputs": [],
   "source": [
    "#def get_s3_bucket():\n",
    "#    s3_client = boto3.client('s3',\n",
    "#            aws_access_key_id=aws_keys[0],\n",
    "#            aws_secret_access_key=aws_keys[1],\n",
    "#            aws_session_token= aws_keys[2]\n",
    "#        )\n",
    "#    response = s3_client.list_objects_v2(Bucket=\"ncgau-uat-shared\")\n",
    "#    return response['Contents'][2]['Key']\n",
    "#get_s3_bucket()"
   ]
  },
  {
   "cell_type": "code",
   "execution_count": 77,
   "metadata": {},
   "outputs": [],
   "source": [
    "DATABASE = \"uatncgpixel\"\n",
    "HOST = \"ncg-uat.crp2jtzxk5hl.ap-southeast-2.redshift.amazonaws.com\"\n",
    "USER = \"uatdbadmin\"\n",
    "PASSWORD = \"DPfURsd1\"\n",
    "PORT = \"5439\"\n",
    "SCHEMA = \"public\"\n",
    "    \n",
    "def get_data():\n",
    "    text2save = []\n",
    "    try:\n",
    "        conn=psycopg2.connect(\"dbname={0} host={1} port={2} user={3} password={4}\".format(DATABASE,HOST,PORT,USER,PASSWORD))\n",
    "    except:\n",
    "        print (\"I am unable to connect to the database {0}.\".format(DATABASE))\n",
    "        exit()\n",
    "    cur = conn.cursor()\n",
    "    try:\n",
    "        cur.execute(\"\"\"SELECT * from events limit 2\"\"\")\n",
    "    except:\n",
    "        print (\"I can't SELECT from bar\")\n",
    "    rows = cur.fetchall()\n",
    "    for row in rows:\n",
    "        text2save = text2save +  ([row[i] for i in range(0,len(row))])\n",
    "    return text2save\n",
    "    cur.close()\n",
    "    conn.close()\n",
    "    \n",
    "#get_data()"
   ]
  },
  {
   "cell_type": "code",
   "execution_count": 78,
   "metadata": {},
   "outputs": [],
   "source": [
    "def return_status():\n",
    "    return \"Success\"\n",
    "#return_status()"
   ]
  },
  {
   "cell_type": "markdown",
   "metadata": {},
   "source": [
    "## AWS key encrypt and decrypt"
   ]
  },
  {
   "cell_type": "code",
   "execution_count": 79,
   "metadata": {},
   "outputs": [],
   "source": [
    "#def encrypt_awskey(in_str,key):\n",
    "#    cipher = AES.new(key,AES.MODE_ECB)\n",
    "#    encoded = base64.b64encode(cipher.encrypt(in_str.ljust(64)))\n",
    "#    return encoded.decode(\"utf-8\")\n",
    "#\n",
    "#\n",
    "#def decrypt_awskey(in_str,key):\n",
    "#    cipher = AES.new(key,AES.MODE_ECB)\n",
    "#    decoded = cipher.decrypt(base64.b64decode(in_str.ljust(64)))\n",
    "#    return (decoded.decode(\"utf-8\")).replace(\" \",\"\")\n",
    "#"
   ]
  },
  {
   "cell_type": "markdown",
   "metadata": {},
   "source": [
    "## Dags"
   ]
  },
  {
   "cell_type": "code",
   "execution_count": 80,
   "metadata": {},
   "outputs": [],
   "source": [
    "default_args = { \n",
    "    \"owner\":\"sampathkumarv\",\n",
    "    \"depends_on_past\": False,\n",
    "    \"start_date\" : datetime.datetime(2018,4,23),    \n",
    "    \"retries\": 1,\n",
    "    \"retry_delay\" : datetime.timedelta(minutes=5)\n",
    "}\n",
    "\n",
    "dag = DAG(\"s3_redshift_ingest\", schedule_interval= \"0 19 * * *\", default_args=default_args)"
   ]
  },
  {
   "cell_type": "markdown",
   "metadata": {},
   "source": [
    "## Define Tasks"
   ]
  },
  {
   "cell_type": "code",
   "execution_count": 81,
   "metadata": {},
   "outputs": [],
   "source": [
    "task1 = PythonOperator(task_id=\"get_data\",\n",
    "                       python_callable = get_data,\n",
    "                       op_args = \"\",\n",
    "                       dag=dag)\n",
    "task2 = PythonOperator(task_id=\"get_s3_bucket\",\n",
    "                       python_callable = get_s3_bucket,\n",
    "                       op_args = \"\",\n",
    "                       dag=dag)\n",
    "task3 = PythonOperator(task_id=\"return_status\",\n",
    "                       python_callable = return_status,\n",
    "                       op_args = \"\",\n",
    "                       dag=dag)\n"
   ]
  },
  {
   "cell_type": "markdown",
   "metadata": {},
   "source": [
    "## Define Schedule"
   ]
  },
  {
   "cell_type": "code",
   "execution_count": 82,
   "metadata": {},
   "outputs": [],
   "source": [
    "task2.set_upstream(task1)\n",
    "task3.set_upstream(task2)"
   ]
  },
  {
   "cell_type": "code",
   "execution_count": null,
   "metadata": {},
   "outputs": [],
   "source": []
  }
 ],
 "metadata": {
  "kernelspec": {
   "display_name": "Python 3",
   "language": "python",
   "name": "python3"
  },
  "language_info": {
   "codemirror_mode": {
    "name": "ipython",
    "version": 3
   },
   "file_extension": ".py",
   "mimetype": "text/x-python",
   "name": "python",
   "nbconvert_exporter": "python",
   "pygments_lexer": "ipython3",
   "version": "3.6.4"
  }
 },
 "nbformat": 4,
 "nbformat_minor": 2
}
